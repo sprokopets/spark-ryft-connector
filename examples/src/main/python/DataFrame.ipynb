{
 "cells": [
  {
   "cell_type": "markdown",
   "metadata": {
    "collapsed": true
   },
   "source": [
    "# Ryft: Python examples for DataFrames\n",
    "\n",
    "To run these examples you should have SPARK_CLASSPATH environment variable point to spark-ryft-connector jar. "
   ]
  },
  {
   "cell_type": "markdown",
   "metadata": {},
   "source": [
    "Prepare SparkContext, SQLContext and Schema"
   ]
  },
  {
   "cell_type": "code",
   "execution_count": null,
   "metadata": {
    "collapsed": false
   },
   "outputs": [],
   "source": [
    "from pyspark import SparkContext, SparkConf\n",
    "from pyspark.sql import SQLContext\n",
    "from pyspark.sql.types import StructField, StructType, StringType, IntegerType, BooleanType, DoubleType, ByteType\n",
    "\n",
    "sparkConf = SparkConf().setAppName(\"DataFrameExample\").setMaster(\"local[2]\")\n",
    "\n",
    "sc = SparkContext(conf=sparkConf)\n",
    "sqlContext = SQLContext(sc)\n",
    "\n",
    "schema = StructType([\n",
    "    StructField(\"Arrest\", BooleanType()),\n",
    "    StructField(\"Beat\", StringType()),\n",
    "    StructField(\"Block\", StringType()),\n",
    "    StructField(\"CaseNumber\", IntegerType()),\n",
    "    StructField(\"CommunityArea\", IntegerType()),\n",
    "    StructField(\"Date\", StringType()),\n",
    "    StructField(\"Description\", StringType()),\n",
    "    StructField(\"District\", IntegerType()),\n",
    "    StructField(\"Domestic\", BooleanType()),\n",
    "    StructField(\"FBICode\", IntegerType()),\n",
    "    StructField(\"ID\", StringType()),\n",
    "    StructField(\"IUCR\", IntegerType()),\n",
    "    StructField(\"Latitude\", DoubleType()),\n",
    "    StructField(\"Location\", StringType()),\n",
    "    StructField(\"LocationDescription\", StringType()),\n",
    "    StructField(\"Longitude\", DoubleType()),\n",
    "    StructField(\"PrimaryType\", StringType()),\n",
    "    StructField(\"UpdatedOn\", StringType()),\n",
    "    StructField(\"Ward\", IntegerType()),\n",
    "    StructField(\"XCoordinate\", IntegerType()),\n",
    "    StructField(\"YCoordinate\", IntegerType()),\n",
    "    StructField(\"Year\", IntegerType()),\n",
    "    StructField(\"_index\", StructType([\n",
    "        StructField(\"file\", StringType()),\n",
    "        StructField(\"offset\", StringType()),\n",
    "        StructField(\"length\", IntegerType()),\n",
    "        StructField(\"fuzziness\", ByteType())\n",
    "    ]))\n",
    "])\n",
    "\n",
    "df = sqlContext.read.format(\"com.ryft.spark.connector.sql\")\\\n",
    "               .schema(schema)\\\n",
    "               .option(\"files\", \"*.pcrime\")\\\n",
    "               .load()\n",
    "df.registerTempTable(\"temp_table\")\n",
    "\n",
    "print \"SparkContext and SQLContext are created\""
   ]
  },
  {
   "cell_type": "markdown",
   "metadata": {},
   "source": [
    "Example #1"
   ]
  },
  {
   "cell_type": "code",
   "execution_count": null,
   "metadata": {
    "collapsed": false
   },
   "outputs": [],
   "source": [
    "result = sqlContext.sql(\"select Date, ID, Description, Arrest from temp_table\\\n",
    "       where Description LIKE '%VEHICLE%'\\\n",
    "          AND (Date LIKE '%04/15/2015%' OR Date LIKE '%04/14/2015%' OR Date LIKE '%04/13/2015%')\\\n",
    "          AND Arrest = true\\\n",
    "       ORDER BY Date\")\n",
    "\n",
    "result.show(truncate=False)"
   ]
  },
  {
   "cell_type": "markdown",
   "metadata": {},
   "source": [
    "Example #2"
   ]
  },
  {
   "cell_type": "code",
   "execution_count": null,
   "metadata": {
    "collapsed": false
   },
   "outputs": [],
   "source": [
    "result = sqlContext.sql(\"select Date, ID, Description from temp_table\\\n",
    "       where Description not LIKE '%VEHICLE%'\\\n",
    "          AND (Date LIKE '%04/13/2015 01%')\\\n",
    "          AND Arrest = true\\\n",
    "       ORDER BY Date\")\n",
    "\n",
    "result.show(truncate=False)"
   ]
  },
  {
   "cell_type": "markdown",
   "metadata": {},
   "source": [
    "Stop active SparkContext"
   ]
  },
  {
   "cell_type": "code",
   "execution_count": null,
   "metadata": {
    "collapsed": false
   },
   "outputs": [],
   "source": [
    "sc.stop()\n",
    "print \"SparkContext is stopped. Now you can create a new one\""
   ]
  },
  {
   "cell_type": "code",
   "execution_count": null,
   "metadata": {
    "collapsed": true
   },
   "outputs": [],
   "source": []
  }
 ],
 "metadata": {
  "kernelspec": {
   "display_name": "Python 2",
   "language": "python",
   "name": "python2"
  },
  "language_info": {
   "codemirror_mode": {
    "name": "ipython",
    "version": 2
   },
   "file_extension": ".py",
   "mimetype": "text/x-python",
   "name": "python",
   "nbconvert_exporter": "python",
   "pygments_lexer": "ipython2",
   "version": "2.7.6"
  }
 },
 "nbformat": 4,
 "nbformat_minor": 0
}
